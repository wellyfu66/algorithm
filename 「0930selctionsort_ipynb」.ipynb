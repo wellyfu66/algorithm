{
  "nbformat": 4,
  "nbformat_minor": 0,
  "metadata": {
    "colab": {
      "name": "「0930selctionsort.ipynb」",
      "provenance": [],
      "collapsed_sections": [],
      "include_colab_link": true
    },
    "kernelspec": {
      "name": "python3",
      "display_name": "Python 3"
    }
  },
  "cells": [
    {
      "cell_type": "markdown",
      "metadata": {
        "id": "view-in-github",
        "colab_type": "text"
      },
      "source": [
        "<a href=\"https://colab.research.google.com/github/wellyfu66/algorithm/blob/master/%E3%80%8C0930selctionsort_ipynb%E3%80%8D.ipynb\" target=\"_parent\"><img src=\"https://colab.research.google.com/assets/colab-badge.svg\" alt=\"Open In Colab\"/></a>"
      ]
    },
    {
      "cell_type": "markdown",
      "metadata": {
        "id": "W-Z0kMaDLJOp"
      },
      "source": [
        "Selection sort (選擇排序)"
      ]
    },
    {
      "cell_type": "code",
      "metadata": {
        "id": "8tM3sv79HQ_V",
        "outputId": "fd849190-a438-42b5-d99a-5c27cc53c25d",
        "colab": {
          "base_uri": "https://localhost:8080/",
          "height": 357
        }
      },
      "source": [
        "def Selction_Sort(datas):\n",
        "    for i in range(len(datas)-1):                                     #n次\n",
        "        min = i # 第一次選從第一個數開始,第二次從第二個數開始.               \n",
        "        for j in range(i+1, len(datas)):    # 用記錄的max數與其他的比較   #n(n＋1)次\n",
        "            if datas[j] < datas[min]:                                 #n次\n",
        "                min = j                                               \n",
        "\n",
        "        datas[i], datas[min] = datas[min], datas[i]\n",
        "\n",
        "        print(datas)\n",
        "        print('---'*10)\n",
        "    return datas\n",
        "\n",
        "\n",
        "if __name__ == '__main__':\n",
        "    import random\n",
        "    a = list(range(10))                                             #10\n",
        "    random.shuffle(a)                                               #10\n",
        "    print(a)\n",
        "    a = Selction_Sort(a)                                            #(n^2+3n)*10\n",
        "    print(a)"
      ],
      "execution_count": null,
      "outputs": [
        {
          "output_type": "stream",
          "text": [
            "[2, 9, 5, 6, 1, 0, 7, 4, 8, 3]\n",
            "[0, 9, 5, 6, 1, 2, 7, 4, 8, 3]\n",
            "------------------------------\n",
            "[0, 1, 5, 6, 9, 2, 7, 4, 8, 3]\n",
            "------------------------------\n",
            "[0, 1, 2, 6, 9, 5, 7, 4, 8, 3]\n",
            "------------------------------\n",
            "[0, 1, 2, 3, 9, 5, 7, 4, 8, 6]\n",
            "------------------------------\n",
            "[0, 1, 2, 3, 4, 5, 7, 9, 8, 6]\n",
            "------------------------------\n",
            "[0, 1, 2, 3, 4, 5, 7, 9, 8, 6]\n",
            "------------------------------\n",
            "[0, 1, 2, 3, 4, 5, 6, 9, 8, 7]\n",
            "------------------------------\n",
            "[0, 1, 2, 3, 4, 5, 6, 7, 8, 9]\n",
            "------------------------------\n",
            "[0, 1, 2, 3, 4, 5, 6, 7, 8, 9]\n",
            "------------------------------\n",
            "[0, 1, 2, 3, 4, 5, 6, 7, 8, 9]\n"
          ],
          "name": "stdout"
        }
      ]
    },
    {
      "cell_type": "markdown",
      "metadata": {
        "id": "MiWPt8bALDN5"
      },
      "source": [
        "請加入註解\n"
      ]
    }
  ]
}