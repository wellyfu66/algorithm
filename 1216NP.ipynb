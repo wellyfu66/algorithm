{
  "nbformat": 4,
  "nbformat_minor": 0,
  "metadata": {
    "colab": {
      "name": "1216NP.ipynb",
      "provenance": [],
      "authorship_tag": "ABX9TyM21fevTEN57DwnvtNWzQTt",
      "include_colab_link": true
    },
    "kernelspec": {
      "name": "python3",
      "display_name": "Python 3"
    }
  },
  "cells": [
    {
      "cell_type": "markdown",
      "metadata": {
        "id": "view-in-github",
        "colab_type": "text"
      },
      "source": [
        "<a href=\"https://colab.research.google.com/github/wellyfu66/algorithm/blob/master/1216NP.ipynb\" target=\"_parent\"><img src=\"https://colab.research.google.com/assets/colab-badge.svg\" alt=\"Open In Colab\"/></a>"
      ]
    },
    {
      "cell_type": "markdown",
      "metadata": {
        "id": "418-tU2rZPko"
      },
      "source": [
        "NP問題\n",
        "\n",
        "著色判定問題\n",
        "\n",
        "給定一個無向圖G=(V,E)，其中V為頂點集合，E為邊集合，圖著色問題即為將V分為K個顏色組，每個組形成一個獨立集，即其中沒有相鄰的頂點。其優化版本是希望獲得最小的值。\n",
        "\n",
        "解法：回朔法\n",
        "\n",
        "可以通過回溯的方法，不斷的為每一個節點著色，在前面n-1個節點都合法的著色之後，開始對第n個節點進行著色，這時候列舉可用的m個顏色，通過和第n個節點相鄰的節點的顏色，來判斷這個顏色是否合法，如果找到那麼一種顏色使得第n個節點能夠著色，那麼說明m種顏色的方案是可行的。\n",
        "\n",
        "解析\n",
        "\n",
        "解的長度是固定的，n。若x為本問題的一個解，則x[i]表示第i個節點的塗色編號。\n",
        "可以將m種顏色看作每個節點的狀態空間。每到一個節點，遍歷所有顏色，剪枝，回溯。\n",
        "可以套用回溯法子集樹模板。\n",
        "\n",
        "\n",
        "來源https://codertw.com/程式語言/364245/\n",
        "\n",
        "https://zh.wikipedia.org/wiki/图着色问题\n",
        "\n",
        "https://www.itread01.com/content/1549388169.html"
      ]
    },
    {
      "cell_type": "code",
      "metadata": {
        "colab": {
          "base_uri": "https://localhost:8080/"
        },
        "id": "uGFQB27AYYkD",
        "outputId": "f858dd65-b379-4c07-f0d6-1594895412f4"
      },
      "source": [
        "'''圖的m著色問題'''\n",
        "# 用鄰接表表示圖\n",
        "n = 5 # 節點數\n",
        "a,b,c,d,e = range(n) # 節點名稱\n",
        "graph = [\n",
        "{b,c,d},\n",
        "{a,c,d,e},\n",
        "{a,b,d},\n",
        "{a,b,c,e},\n",
        "{b,d}\n",
        "]\n",
        "m = 4       # m種顏色\n",
        "x = [0]*n   # 一個解（n元陣列，長度固定）注意：解x的下標就是a,b,c,d,e!!!\n",
        "X = []      # 一組解\n",
        "# 衝突檢測\n",
        "def conflict(k):\n",
        "  global n,graph,x                         # 找出第k個節點前面已經塗色的鄰接節點\n",
        "  nodes = [node for node in range(k) if node in graph[k]]\n",
        "  if x[k] in [x[node] for node in nodes]:  # 已經有相鄰節點塗了這種顏色\n",
        "    return True\n",
        "  return False                             # 無衝突\n",
        "# 圖的m著色（全部解）\n",
        "def dfs(k):             # 到達（解x的）第k個節點\n",
        "  global n,m,graph,x,X\n",
        "  if k == n:            # 解的長度超出\n",
        "    print(x)\n",
        "#X.append(x[:])\n",
        "  else:\n",
        "    for color in range(m): # 遍歷節點k的可塗顏色編號（狀態空間），全都一樣\n",
        "      x[k] = color\n",
        "      if not conflict(k):      # 剪枝\n",
        "        dfs(k+1)\n",
        "# 測試\n",
        "dfs(a)  # 從節點a開始\n",
        "print(X)"
      ],
      "execution_count": 3,
      "outputs": [
        {
          "output_type": "stream",
          "text": [
            "[0, 1, 2, 3, 0]\n",
            "[0, 1, 2, 3, 2]\n",
            "[0, 1, 3, 2, 0]\n",
            "[0, 1, 3, 2, 3]\n",
            "[0, 2, 1, 3, 0]\n",
            "[0, 2, 1, 3, 1]\n",
            "[0, 2, 3, 1, 0]\n",
            "[0, 2, 3, 1, 3]\n",
            "[0, 3, 1, 2, 0]\n",
            "[0, 3, 1, 2, 1]\n",
            "[0, 3, 2, 1, 0]\n",
            "[0, 3, 2, 1, 2]\n",
            "[1, 0, 2, 3, 1]\n",
            "[1, 0, 2, 3, 2]\n",
            "[1, 0, 3, 2, 1]\n",
            "[1, 0, 3, 2, 3]\n",
            "[1, 2, 0, 3, 0]\n",
            "[1, 2, 0, 3, 1]\n",
            "[1, 2, 3, 0, 1]\n",
            "[1, 2, 3, 0, 3]\n",
            "[1, 3, 0, 2, 0]\n",
            "[1, 3, 0, 2, 1]\n",
            "[1, 3, 2, 0, 1]\n",
            "[1, 3, 2, 0, 2]\n",
            "[2, 0, 1, 3, 1]\n",
            "[2, 0, 1, 3, 2]\n",
            "[2, 0, 3, 1, 2]\n",
            "[2, 0, 3, 1, 3]\n",
            "[2, 1, 0, 3, 0]\n",
            "[2, 1, 0, 3, 2]\n",
            "[2, 1, 3, 0, 2]\n",
            "[2, 1, 3, 0, 3]\n",
            "[2, 3, 0, 1, 0]\n",
            "[2, 3, 0, 1, 2]\n",
            "[2, 3, 1, 0, 1]\n",
            "[2, 3, 1, 0, 2]\n",
            "[3, 0, 1, 2, 1]\n",
            "[3, 0, 1, 2, 3]\n",
            "[3, 0, 2, 1, 2]\n",
            "[3, 0, 2, 1, 3]\n",
            "[3, 1, 0, 2, 0]\n",
            "[3, 1, 0, 2, 3]\n",
            "[3, 1, 2, 0, 2]\n",
            "[3, 1, 2, 0, 3]\n",
            "[3, 2, 0, 1, 0]\n",
            "[3, 2, 0, 1, 3]\n",
            "[3, 2, 1, 0, 1]\n",
            "[3, 2, 1, 0, 3]\n",
            "[]\n"
          ],
          "name": "stdout"
        }
      ]
    }
  ]
}