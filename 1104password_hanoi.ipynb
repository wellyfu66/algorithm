{
  "nbformat": 4,
  "nbformat_minor": 0,
  "metadata": {
    "colab": {
      "name": "1104password-hanoi.ipynb",
      "provenance": [],
      "authorship_tag": "ABX9TyOsdElPW9/N6XATv/jeIJTz",
      "include_colab_link": true
    },
    "kernelspec": {
      "name": "python3",
      "display_name": "Python 3"
    }
  },
  "cells": [
    {
      "cell_type": "markdown",
      "metadata": {
        "id": "view-in-github",
        "colab_type": "text"
      },
      "source": [
        "<a href=\"https://colab.research.google.com/github/wellyfu66/algorithm/blob/master/1104password_hanoi.ipynb\" target=\"_parent\"><img src=\"https://colab.research.google.com/assets/colab-badge.svg\" alt=\"Open In Colab\"/></a>"
      ]
    },
    {
      "cell_type": "markdown",
      "metadata": {
        "id": "dLIBDCgSEB35"
      },
      "source": [
        "password"
      ]
    },
    {
      "cell_type": "code",
      "metadata": {
        "id": "DqKkT2V4Dgo_",
        "outputId": "0e13aaaa-4152-4f20-c11d-47db8cb41868",
        "colab": {
          "base_uri": "https://localhost:8080/"
        }
      },
      "source": [
        "ans = 84\n",
        "\n",
        " \n",
        "min = 0\n",
        "max = 100\n",
        " \n",
        "while(True):\n",
        "    guess = int(input(\"請輸入數字介於 %d ~ %d : \"%(min, max)))\n",
        "    if (min>guess):\n",
        "       print(\"不在範圍內請重新輸入\")\n",
        "    if (max<guess):\n",
        "       print(\"不在範圍內請重新輸入\")\n",
        "    if (guess > ans):\n",
        "        max = guess\n",
        "    if (guess < ans):\n",
        "        min = guess\n",
        "    if (guess == ans):\n",
        "        print(\"猜對了!!\")\n",
        "        break"
      ],
      "execution_count": 33,
      "outputs": [
        {
          "output_type": "stream",
          "text": [
            "請輸入數字介於 0 ~ 100 : 50\n",
            "請輸入數字介於 50 ~ 100 : 70\n",
            "請輸入數字介於 70 ~ 100 : 84\n",
            "猜對了!!\n"
          ],
          "name": "stdout"
        }
      ]
    },
    {
      "cell_type": "markdown",
      "metadata": {
        "id": "SAx2pL4mFtTL"
      },
      "source": [
        "河內塔"
      ]
    },
    {
      "cell_type": "code",
      "metadata": {
        "id": "ikHpVrnnFvs_",
        "outputId": "18418c24-2a12-4cdd-f694-787ced3725bf",
        "colab": {
          "base_uri": "https://localhost:8080/"
        }
      },
      "source": [
        "def hanoi(n, A, B, C):\n",
        "    if n == 1:\n",
        "        return [(A, C)]\n",
        "    else:\n",
        "        return hanoi(n-1, A, C, B) + hanoi(1, A, B, C) + hanoi(n-1, B, A, C)\n",
        "        \n",
        "t = 0\n",
        "n = input(\"請輸入整數：\")\n",
        "for move in hanoi(int(n), 'A', 'B', 'C'):\n",
        "    t+=1\n",
        "    print(\"盤由 %c 移至 %c,執行次數\" % move, t)\n",
        "    \n",
        "\n"
      ],
      "execution_count": 26,
      "outputs": [
        {
          "output_type": "stream",
          "text": [
            "請輸入整數：5\n",
            "盤由 A 移至 C,執行次數 1\n",
            "盤由 A 移至 B,執行次數 2\n",
            "盤由 C 移至 B,執行次數 3\n",
            "盤由 A 移至 C,執行次數 4\n",
            "盤由 B 移至 A,執行次數 5\n",
            "盤由 B 移至 C,執行次數 6\n",
            "盤由 A 移至 C,執行次數 7\n",
            "盤由 A 移至 B,執行次數 8\n",
            "盤由 C 移至 B,執行次數 9\n",
            "盤由 C 移至 A,執行次數 10\n",
            "盤由 B 移至 A,執行次數 11\n",
            "盤由 C 移至 B,執行次數 12\n",
            "盤由 A 移至 C,執行次數 13\n",
            "盤由 A 移至 B,執行次數 14\n",
            "盤由 C 移至 B,執行次數 15\n",
            "盤由 A 移至 C,執行次數 16\n",
            "盤由 B 移至 A,執行次數 17\n",
            "盤由 B 移至 C,執行次數 18\n",
            "盤由 A 移至 C,執行次數 19\n",
            "盤由 B 移至 A,執行次數 20\n",
            "盤由 C 移至 B,執行次數 21\n",
            "盤由 C 移至 A,執行次數 22\n",
            "盤由 B 移至 A,執行次數 23\n",
            "盤由 B 移至 C,執行次數 24\n",
            "盤由 A 移至 C,執行次數 25\n",
            "盤由 A 移至 B,執行次數 26\n",
            "盤由 C 移至 B,執行次數 27\n",
            "盤由 A 移至 C,執行次數 28\n",
            "盤由 B 移至 A,執行次數 29\n",
            "盤由 B 移至 C,執行次數 30\n",
            "盤由 A 移至 C,執行次數 31\n"
          ],
          "name": "stdout"
        }
      ]
    }
  ]
}