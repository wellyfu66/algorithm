{
  "nbformat": 4,
  "nbformat_minor": 0,
  "metadata": {
    "colab": {
      "name": "1104password-hanoi.ipynb",
      "provenance": [],
      "authorship_tag": "ABX9TyPc+MN9T9kuxNgumxyJ6XLN",
      "include_colab_link": true
    },
    "kernelspec": {
      "name": "python3",
      "display_name": "Python 3"
    }
  },
  "cells": [
    {
      "cell_type": "markdown",
      "metadata": {
        "id": "view-in-github",
        "colab_type": "text"
      },
      "source": [
        "<a href=\"https://colab.research.google.com/github/wellyfu66/algorithm/blob/master/1104password_hanoi.ipynb\" target=\"_parent\"><img src=\"https://colab.research.google.com/assets/colab-badge.svg\" alt=\"Open In Colab\"/></a>"
      ]
    },
    {
      "cell_type": "markdown",
      "metadata": {
        "id": "dLIBDCgSEB35"
      },
      "source": [
        "password"
      ]
    },
    {
      "cell_type": "code",
      "metadata": {
        "id": "DqKkT2V4Dgo_",
        "outputId": "98a6c2de-d11d-4b83-9c05-6e99e7c8d250",
        "colab": {
          "base_uri": "https://localhost:8080/"
        }
      },
      "source": [
        "ans = 84\n",
        "\n",
        " \n",
        "min = 0\n",
        "max = 100\n",
        " \n",
        "while(True):\n",
        "    guess = int(input(\"請輸入數字介於 %d ~ %d : \"%(min, max)))\n",
        "    if (guess > ans):\n",
        "        max = guess\n",
        "    if (guess < ans):\n",
        "        min = guess\n",
        "    if (guess == ans):\n",
        "        print(\"猜對了!!\")\n",
        "        break"
      ],
      "execution_count": 19,
      "outputs": [
        {
          "output_type": "stream",
          "text": [
            "請輸入數字介於 0 ~ 100 : 50\n",
            "請輸入數字介於 50 ~ 100 : 70\n",
            "請輸入數字介於 70 ~ 100 : 92\n",
            "請輸入數字介於 70 ~ 92 : 80\n",
            "請輸入數字介於 80 ~ 92 : 88\n",
            "請輸入數字介於 80 ~ 88 : 83\n",
            "請輸入數字介於 83 ~ 88 : 84\n",
            "猜對了!!\n"
          ],
          "name": "stdout"
        }
      ]
    },
    {
      "cell_type": "markdown",
      "metadata": {
        "id": "SAx2pL4mFtTL"
      },
      "source": [
        "河內塔"
      ]
    },
    {
      "cell_type": "code",
      "metadata": {
        "id": "ikHpVrnnFvs_",
        "outputId": "39f80e02-a3bc-4f15-d16f-39d42aa6e782",
        "colab": {
          "base_uri": "https://localhost:8080/"
        }
      },
      "source": [
        "def hanoi(n, A, B, C):\n",
        "    if n == 1:\n",
        "        return [(A, C)]\n",
        "    else:\n",
        "        return hanoi(n-1, A, C, B) + hanoi(1, A, B, C) + hanoi(n-1, B, A, C)\n",
        "        \n",
        "t = 0\n",
        "n = input(\"請輸入整數：\")\n",
        "for move in hanoi(int(n), 'A', 'B', 'C'):\n",
        "    t+=1\n",
        "    print(\"盤由 %c 移至 %c\" % move ,t)\n",
        "    \n",
        "\n"
      ],
      "execution_count": 22,
      "outputs": [
        {
          "output_type": "stream",
          "text": [
            "請輸入整數：5\n",
            "盤由 A 移至 C 1\n",
            "盤由 A 移至 B 2\n",
            "盤由 C 移至 B 3\n",
            "盤由 A 移至 C 4\n",
            "盤由 B 移至 A 5\n",
            "盤由 B 移至 C 6\n",
            "盤由 A 移至 C 7\n",
            "盤由 A 移至 B 8\n",
            "盤由 C 移至 B 9\n",
            "盤由 C 移至 A 10\n",
            "盤由 B 移至 A 11\n",
            "盤由 C 移至 B 12\n",
            "盤由 A 移至 C 13\n",
            "盤由 A 移至 B 14\n",
            "盤由 C 移至 B 15\n",
            "盤由 A 移至 C 16\n",
            "盤由 B 移至 A 17\n",
            "盤由 B 移至 C 18\n",
            "盤由 A 移至 C 19\n",
            "盤由 B 移至 A 20\n",
            "盤由 C 移至 B 21\n",
            "盤由 C 移至 A 22\n",
            "盤由 B 移至 A 23\n",
            "盤由 B 移至 C 24\n",
            "盤由 A 移至 C 25\n",
            "盤由 A 移至 B 26\n",
            "盤由 C 移至 B 27\n",
            "盤由 A 移至 C 28\n",
            "盤由 B 移至 A 29\n",
            "盤由 B 移至 C 30\n",
            "盤由 A 移至 C 31\n"
          ],
          "name": "stdout"
        }
      ]
    }
  ]
}