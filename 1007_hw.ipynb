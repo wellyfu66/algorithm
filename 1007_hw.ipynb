{
  "nbformat": 4,
  "nbformat_minor": 0,
  "metadata": {
    "colab": {
      "name": "1007-hw.ipynb",
      "provenance": [],
      "authorship_tag": "ABX9TyO4VUEomi9pfJ7I8AVTPKsN",
      "include_colab_link": true
    },
    "kernelspec": {
      "name": "python3",
      "display_name": "Python 3"
    }
  },
  "cells": [
    {
      "cell_type": "markdown",
      "metadata": {
        "id": "view-in-github",
        "colab_type": "text"
      },
      "source": [
        "<a href=\"https://colab.research.google.com/github/wellyfu66/algorithm/blob/master/1007_hw.ipynb\" target=\"_parent\"><img src=\"https://colab.research.google.com/assets/colab-badge.svg\" alt=\"Open In Colab\"/></a>"
      ]
    },
    {
      "cell_type": "markdown",
      "metadata": {
        "id": "CwYGuNQE2rc3"
      },
      "source": [
        "判斷當年有沒有奧運\n",
        "\n",
        "**方法1**\n",
        "\n",
        "直接計算\n"
      ]
    },
    {
      "cell_type": "code",
      "metadata": {
        "id": "vL4F5avz2zhn"
      },
      "source": [
        "year = input(\"請輸入年份\")\n",
        "print(\"\\n\")\n",
        "\n",
        "try:                          \n",
        "  val = int(year)             #將輸入的字串轉換成數值\n",
        "  if int(year)%4 != 0:        #判斷年份除以4看看是否有餘數看看有沒有奧運\n",
        "    print(\"這年沒有奧運\"）\n",
        "  else:\n",
        "    print(\"這年有奧運\")  \n",
        "\n",
        "except ValueError:            #抓取出不是數字的字串\n",
        "  print(\"input is not a number\")"
      ],
      "execution_count": null,
      "outputs": []
    },
    {
      "cell_type": "markdown",
      "metadata": {
        "id": "xoEK8fXV21Xz"
      },
      "source": [
        "判斷當年有沒有奧運\n",
        "\n",
        "**方法2**\n",
        "\n",
        "從資料庫抓取\n"
      ]
    },
    {
      "cell_type": "code",
      "metadata": {
        "id": "3eFgXkMu8LHo",
        "outputId": "13dd1116-5ca1-414d-ea63-9546372fd223",
        "colab": {
          "base_uri": "https://localhost:8080/",
          "height": 124
        }
      },
      "source": [
        "year = []\n",
        "test = []\n",
        "\n",
        "                                    #重複查詢\n",
        "def search():\n",
        "  while True:\n",
        "    try:\n",
        "      x = input(\"請輸入2000~2080\")   #輸入年份\n",
        "      y = int(x)\n",
        "      print(y) \n",
        "      if y < 2000 | y > 2080 :      #判斷是否在這個範圍內\n",
        "        print(\"不在這個範圍內\")\n",
        "      else:                         #在範圍內查詢有沒有奧運\n",
        "        if test[y - 2000] == 1:\n",
        "          print(\"這年有奧運\")\n",
        "        else:\n",
        "          print(\"這年沒有奧運\")\n",
        "    except ValueError:              #偵測是非為數字\n",
        "      print(\"請不要輸入數字以外的東西\")\n",
        "      break\n",
        "\n",
        "                                    #儲存存值和判斷是否有奧運\n",
        "for i in range (0,81):\n",
        "      year.append(2000+i)\n",
        "      if year[i]%4 == 0:\n",
        "        test.append(1)\n",
        "      else:\n",
        "        test.append(0)\n",
        "search()"
      ],
      "execution_count": null,
      "outputs": [
        {
          "output_type": "stream",
          "text": [
            "請輸入2000~20802077\n",
            "2077\n",
            "不在這個範圍內\n"
          ],
          "name": "stdout"
        }
      ]
    }
  ]
}