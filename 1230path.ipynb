{
  "nbformat": 4,
  "nbformat_minor": 0,
  "metadata": {
    "colab": {
      "name": "1230path",
      "provenance": [],
      "authorship_tag": "ABX9TyMacsfHei2OsWmrghk2xzYF",
      "include_colab_link": true
    },
    "kernelspec": {
      "name": "python3",
      "display_name": "Python 3"
    }
  },
  "cells": [
    {
      "cell_type": "markdown",
      "metadata": {
        "id": "view-in-github",
        "colab_type": "text"
      },
      "source": [
        "<a href=\"https://colab.research.google.com/github/wellyfu66/algorithm/blob/master/1230path.ipynb\" target=\"_parent\"><img src=\"https://colab.research.google.com/assets/colab-badge.svg\" alt=\"Open In Colab\"/></a>"
      ]
    },
    {
      "cell_type": "markdown",
      "metadata": {
        "id": "pH3iF6CTeiOn"
      },
      "source": [
        "有向圖"
      ]
    },
    {
      "cell_type": "code",
      "metadata": {
        "id": "mMqWuuoaWZIR",
        "colab": {
          "base_uri": "https://localhost:8080/"
        },
        "outputId": "0e9408d7-a800-4e38-9f02-5b3baa6b018b"
      },
      "source": [
        "def enqueue(a, o):\n",
        "    a.insert(0, o)\n",
        "\n",
        "def dequeue(a):\n",
        "    return a.pop()\n",
        "\n",
        "g = { #  graph: 被搜尋的網路\n",
        "    '1': {'n':['2'], 'v':0}, #  n: neighbor (鄰居), v: visited (是否被訪問過)\n",
        "    '2': {'n':['3','4'], 'v':0},\n",
        "    '3': {'n':['1','6'], 'v':0},\n",
        "    '4': {'n':['3','5'], 'v':0},\n",
        "    '5': {'n':['3'], 'v':0},\n",
        "    '6': {'n':['1'], 'v':0}\n",
        "}\n",
        "\n",
        "def init(g): #  初始化、設定 visited 為 0\n",
        "    for i in g:\n",
        "        g[i]['v'] = 0\n",
        "\n",
        "def dfs(g, node): #  深度優先搜尋\n",
        "    if g[node]['v']!=0:           #  如果已訪問過，就不再訪問\n",
        "        return\n",
        "    print(node, '=> ', end = '')  #  否則、印出節點\n",
        "    g[node]['v'] = 1              #    並設定為已訪問\n",
        "    neighbors = g[node]['n']      # 取出鄰居節點\n",
        "    for n in neighbors:           #  對於每個鄰居\n",
        "        dfs(g, n)                 #    逐一進行訪問\n",
        "\n",
        "queue=['1'] #  BFS 用的 queue, 起始點為 1。\n",
        "\n",
        "def bfs(g, q): #  廣度優先搜尋\n",
        "    if len(q)==0:                 #  如果 queue 已空，則返回。\n",
        "        return\n",
        "    node = dequeue(q)             #  否則、取出 queue 的第一個節點。\n",
        "    if g[node]['v'] == 0:         #  如果該節點尚未拜訪過。\n",
        "        g[node]['v'] = 1          #    標示為已拜訪\n",
        "    else:                         #  否則 (已訪問過)\n",
        "        return                    #    不繼續搜尋，直接返回。\n",
        "    print(node, '=> ', end = '')  #  印出節點\n",
        "    neighbors = g[node]['n']      #  取出鄰居。\n",
        "    for n in neighbors: #  對於每個鄰居\n",
        "        if not g[n]['v']:         #  假如該鄰居還沒被拜訪過\n",
        "            enqueue(q, n)         #    就放入 queue 中\n",
        "    bfs(g, q)\n",
        "\n",
        "print('dfs:', end = '')\n",
        "init(g)\n",
        "dfs(g, '1') # 呼叫深度優先搜尋。\n",
        "print('')\n",
        "\n",
        "print('bfs:', end = '')\n",
        "init(g)\n",
        "bfs(g, queue) # 呼叫廣度優先搜尋。\n",
        "print('')\n",
        "\n"
      ],
      "execution_count": null,
      "outputs": [
        {
          "output_type": "stream",
          "text": [
            "dfs:1 => 2 => 3 => 6 => 4 => 5 => \n",
            "bfs:1 => 2 => 3 => 4 => 6 => 5 => \n"
          ],
          "name": "stdout"
        }
      ]
    },
    {
      "cell_type": "markdown",
      "metadata": {
        "id": "Bj-JA17jWeWa"
      },
      "source": [
        ""
      ]
    }
  ]
}