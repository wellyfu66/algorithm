{
  "nbformat": 4,
  "nbformat_minor": 0,
  "metadata": {
    "colab": {
      "name": "1014sequential search .ipynb",
      "provenance": [],
      "authorship_tag": "ABX9TyP/c10ULX0duYfZMlL7+syE",
      "include_colab_link": true
    },
    "kernelspec": {
      "name": "python3",
      "display_name": "Python 3"
    }
  },
  "cells": [
    {
      "cell_type": "markdown",
      "metadata": {
        "id": "view-in-github",
        "colab_type": "text"
      },
      "source": [
        "<a href=\"https://colab.research.google.com/github/wellyfu66/algorithm/blob/master/1014sequential_search_.ipynb\" target=\"_parent\"><img src=\"https://colab.research.google.com/assets/colab-badge.svg\" alt=\"Open In Colab\"/></a>"
      ]
    },
    {
      "cell_type": "code",
      "metadata": {
        "id": "qfzvSOacw6rm",
        "outputId": "8f6215cd-8b43-4386-ae38-0e3b3844337f",
        "colab": {
          "base_uri": "https://localhost:8080/",
          "height": 54
        }
      },
      "source": [
        "data = [20,31,50,17,16,36,19,8]\n",
        "\n",
        "def sequential_search (data,key):\n",
        "  for i in range(len(data)):\n",
        "    if data[i] == key:\n",
        "      print(\"找到了\")\n",
        "      print(i+1)\n",
        "      break\n",
        "    elif i+1 == len(data) :\n",
        "      print(\"沒有找到\")\n",
        "\n",
        "sequential_search (data,66)"
      ],
      "execution_count": 13,
      "outputs": [
        {
          "output_type": "stream",
          "text": [
            "沒有找到\n"
          ],
          "name": "stdout"
        }
      ]
    }
  ]
}