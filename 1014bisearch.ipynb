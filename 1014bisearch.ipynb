{
  "nbformat": 4,
  "nbformat_minor": 0,
  "metadata": {
    "colab": {
      "name": "1014bisearch.ipynb",
      "provenance": [],
      "authorship_tag": "ABX9TyPb6icTdRlfD7c6MdF9qBeK",
      "include_colab_link": true
    },
    "kernelspec": {
      "name": "python3",
      "display_name": "Python 3"
    }
  },
  "cells": [
    {
      "cell_type": "markdown",
      "metadata": {
        "id": "view-in-github",
        "colab_type": "text"
      },
      "source": [
        "<a href=\"https://colab.research.google.com/github/wellyfu66/algorithm/blob/master/1014bisearch.ipynb\" target=\"_parent\"><img src=\"https://colab.research.google.com/assets/colab-badge.svg\" alt=\"Open In Colab\"/></a>"
      ]
    },
    {
      "cell_type": "code",
      "metadata": {
        "id": "uzBd7lpf2FZ9",
        "outputId": "00579d79-76c3-451b-e488-354a34bbc02c",
        "colab": {
          "base_uri": "https://localhost:8080/",
          "height": 54
        }
      },
      "source": [
        "data = [1, 2, 3, 4, 5, 6, 7, 8, 9]\n",
        "\n",
        "def binary_search(data, key):\n",
        "    #設置選取範圍的指標\n",
        "    low = 0\n",
        "    upper = len(data) - 1\n",
        "    while low <= upper:\n",
        "        mid = int((low + upper) / 2)  #取中間索引的值(取整數不然會有小數點變成float)\n",
        "        if data[mid] < key:    #若搜尋值比中間的值大，將中間索引+1，取右半\n",
        "            low = mid + 1\n",
        "        elif data[mid] > key:  #若搜尋值比中間的值小，將中間索引+1，取左半\n",
        "            upper = mid - 1\n",
        "        else:                    #若搜尋值等於中間的值，則回傳\n",
        "            return mid\n",
        "    return -1\n",
        "\n",
        "\n",
        "index = binary_search(data, 5)\n",
        "if index >= 0:\n",
        "    print(\"找到數值於索引 \" + str(index))\n",
        "else:\n",
        "    print(\"找不到數值\")"
      ],
      "execution_count": 2,
      "outputs": [
        {
          "output_type": "stream",
          "text": [
            "找到數值於索引 4\n"
          ],
          "name": "stdout"
        }
      ]
    }
  ]
}