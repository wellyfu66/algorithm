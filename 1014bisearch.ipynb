{
  "nbformat": 4,
  "nbformat_minor": 0,
  "metadata": {
    "colab": {
      "name": "1014bisearch.ipynb",
      "provenance": [],
      "authorship_tag": "ABX9TyMTCaiIbEF7KmwrTu7gQ9/x",
      "include_colab_link": true
    },
    "kernelspec": {
      "name": "python3",
      "display_name": "Python 3"
    }
  },
  "cells": [
    {
      "cell_type": "markdown",
      "metadata": {
        "id": "view-in-github",
        "colab_type": "text"
      },
      "source": [
        "<a href=\"https://colab.research.google.com/github/wellyfu66/algorithm/blob/master/1014bisearch.ipynb\" target=\"_parent\"><img src=\"https://colab.research.google.com/assets/colab-badge.svg\" alt=\"Open In Colab\"/></a>"
      ]
    },
    {
      "cell_type": "code",
      "metadata": {
        "id": "uzBd7lpf2FZ9",
        "outputId": "00579d79-76c3-451b-e488-354a34bbc02c",
        "colab": {
          "base_uri": "https://localhost:8080/",
          "height": 54
        }
      },
      "source": [
        "data = [1, 2, 3, 4, 5, 6, 7, 8, 9]\n",
        "\n",
        "def binary_search(data, key):\n",
        "    #設置選取範圍的指標\n",
        "    low = 0\n",
        "    upper = len(data) - 1\n",
        "    while low <= upper:\n",
        "        mid = int((low + upper) / 2)  #取中間索引的值(取整數不然會有小數點變成float)\n",
        "        if data[mid] < key:           #若搜尋值比中間的值大，將中間索引+1，取右半\n",
        "            low = mid + 1\n",
        "        elif data[mid] > key:         #若搜尋值比中間的值小，將中間索引+1，取左半\n",
        "            upper = mid - 1\n",
        "        else:                         #若搜尋值等於中間的值，則回傳\n",
        "            return mid\n",
        "    return -1\n",
        "\n",
        "\n",
        "index = binary_search(data, 5)\n",
        "if index >= 0:\n",
        "    print(\"找到數值於索引 \" + str(index))\n",
        "else:\n",
        "    print(\"找不到數值\")"
      ],
      "execution_count": 2,
      "outputs": [
        {
          "output_type": "stream",
          "text": [
            "找到數值於索引 4\n"
          ],
          "name": "stdout"
        }
      ]
    },
    {
      "cell_type": "markdown",
      "metadata": {
        "id": "DpcdVEL_AoLz"
      },
      "source": [
        "原程式碼"
      ]
    },
    {
      "cell_type": "code",
      "metadata": {
        "id": "uXE5mIhz8096",
        "outputId": "e834ec29-912c-46a5-f319-dc730df9cfe8",
        "colab": {
          "base_uri": "https://localhost:8080/",
          "height": 54
        }
      },
      "source": [
        "def binarySearch(arr, l, r, x):\n",
        "  if r >= l:\n",
        "    mid = l+(r-l)//2\n",
        "    if arr[mid] == x:\n",
        "      return mid\n",
        "    elif arr[mid] > x:\n",
        "      return binarySearch(arr, l, mid-1, x)\n",
        "    else :\n",
        "      return binarySearch(arr, mid+1, r, x)\n",
        "  else:\n",
        "    return -1\n",
        "\n",
        "arr = [5,8,9,15,30]\n",
        "x = 9\n",
        "\n",
        "#Function call\n",
        "\n",
        "result = binarySearch(arr, 0, len(arr)-1, x)\n",
        "\n",
        "if result != -1 :\n",
        "  print(\"元素在索引 % d\" % result)\n",
        "else :\n",
        "  print(\"陣列中找不到元素”)"
      ],
      "execution_count": 9,
      "outputs": [
        {
          "output_type": "stream",
          "text": [
            "元素在索引  2\n"
          ],
          "name": "stdout"
        }
      ]
    },
    {
      "cell_type": "markdown",
      "metadata": {
        "id": "5dZGL2p2Avua"
      },
      "source": [
        "排序＋二元搜尋\n",
        "\n",
        "結果呈現\n",
        "1輸入的直，五個\n",
        "\n",
        "2排序結果\n",
        "\n",
        "3樣搜尋的key value\n",
        "\n",
        "4二元結果＋位置\n"
      ]
    },
    {
      "cell_type": "code",
      "metadata": {
        "id": "j270BXkV8cTl",
        "outputId": "8b065bb5-33dc-46f3-90aa-02f01fb9f90c",
        "colab": {
          "base_uri": "https://localhost:8080/",
          "height": 220
        }
      },
      "source": [
        "def Bubble_Sort(datas):\n",
        "    for i in range(1, len(datas)): \n",
        "        for j in range(len(datas)-i):   \n",
        "            if datas[j] > datas[j+1]:   \n",
        "                datas[j], datas[j+1] = datas[j+1], datas[j]\n",
        "    return datas\n",
        "\n",
        "def binarySearch(arr, l, r, x):\n",
        "  if r >= l:\n",
        "    mid = l+(r-l)//2\n",
        "    if arr[mid] == x:\n",
        "      return mid\n",
        "    elif arr[mid] > x:\n",
        "      return binarySearch(arr, l, mid-1, x)\n",
        "    else :\n",
        "      return binarySearch(arr, mid+1, r, x)\n",
        "  else:\n",
        "    return -1\n",
        "  \n",
        "import random\n",
        "\n",
        "arr = []                                 #定義陣列\n",
        "gg = []                                   \n",
        "\n",
        "for i in range(5):\n",
        "  arr.append(int(input(\"請輸入五個數字\"))) # 輸入五個數字\n",
        "\n",
        "random.shuffle(arr)                      # 打亂\n",
        "print(arr)\n",
        "\n",
        "gg = Bubble_Sort(arr)                   \n",
        "\n",
        "x = int(input(\"輸入key值\"))\n",
        "\n",
        "print(gg)\n",
        "print(x)\n",
        "\n",
        "#Function call\n",
        "\n",
        "result = binarySearch(gg, 0, len(gg)-1, x)\n",
        "\n",
        "if result != -1 :\n",
        "  print(\"元素在索引 % d\" % result)\n",
        "else :\n",
        "  print(\"陣列中找不到元素\")"
      ],
      "execution_count": 10,
      "outputs": [
        {
          "output_type": "stream",
          "text": [
            "請輸入五個數字1\n",
            "請輸入五個數字2\n",
            "請輸入五個數字3\n",
            "請輸入五個數字4\n",
            "請輸入五個數字5\n",
            "[1, 5, 4, 3, 2]\n",
            "輸入key值5\n",
            "[1, 2, 3, 4, 5]\n",
            "[1, 2, 3, 4, 5]\n",
            "5\n",
            "元素在索引  4\n"
          ],
          "name": "stdout"
        }
      ]
    }
  ]
}