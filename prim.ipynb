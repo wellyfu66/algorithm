{
  "nbformat": 4,
  "nbformat_minor": 0,
  "metadata": {
    "colab": {
      "name": "prim.ipynb",
      "provenance": [],
      "authorship_tag": "ABX9TyN2k6wmVWRVMyO0uSkCx6iu",
      "include_colab_link": true
    },
    "kernelspec": {
      "name": "python3",
      "display_name": "Python 3"
    }
  },
  "cells": [
    {
      "cell_type": "markdown",
      "metadata": {
        "id": "view-in-github",
        "colab_type": "text"
      },
      "source": [
        "<a href=\"https://colab.research.google.com/github/wellyfu66/algorithm/blob/master/prim.ipynb\" target=\"_parent\"><img src=\"https://colab.research.google.com/assets/colab-badge.svg\" alt=\"Open In Colab\"/></a>"
      ]
    },
    {
      "cell_type": "code",
      "metadata": {
        "colab": {
          "base_uri": "https://localhost:8080/"
        },
        "id": "VG_eQ0qsavYd",
        "outputId": "f22b376d-dbc7-4e25-fd39-aac4c83684a5"
      },
      "source": [
        "def prim(graph):\n",
        "    n = len(graph)\n",
        "    costs = [99999 for _ in range(n)]  # 父結點到該結點的邊權值\n",
        "    costs[0] = 0\n",
        "    parents = [-1 for _ in range(n)]\n",
        "    visited = [False for _ in range(n)]\n",
        "    t = []\n",
        "    while len(t) < n:\n",
        "        # 在costs找最短邊，把該最短邊的結點加入t，標記為已訪問\n",
        "        minCost = 99999\n",
        "        minNode = None\n",
        "        for i in range(n):\n",
        "            if not visited[i] and costs[i] < minCost:\n",
        "                minCost = costs[i]\n",
        "                minNode = i\n",
        "        t.append(minNode)\n",
        "        visited[minNode] = True\n",
        "\n",
        "        # 遍歷該結點的邊，更新最短邊\n",
        "        for edge in graph[minNode]:\n",
        "            if not visited[edge[0]] and edge[1] < costs[edge[0]]:\n",
        "                costs[edge[0]] = edge[1]\n",
        "                parents[edge[0]] = minNode\n",
        "    return costs, parents\n",
        "\n",
        "\n",
        "data = [\n",
        "    [2, 0, 1],\n",
        "    [2, 1, 5],\n",
        "    [2, 3, 5],\n",
        "    [2, 4, 5],\n",
        "    [2, 5, 4],\n",
        "    [0, 1, 6],\n",
        "    [0, 3, 5],\n",
        "    [4, 1, 3],\n",
        "    [4, 5, 6],\n",
        "    [5, 3, 2],\n",
        "]\n",
        "\n",
        "# 構造鄰接表\n",
        "n = 6\n",
        "graph = [[] for _ in range(n)]\n",
        "for edge in data:\n",
        "    graph[edge[0]].append([edge[1], edge[2]])\n",
        "    graph[edge[1]].append([edge[0], edge[2]])\n",
        "\n",
        "# 最小生成樹MST\n",
        "print('MST')\n",
        "costs, parents = prim(graph)\n",
        "print('costs:', costs)\n",
        "print('parents', parents)\n",
        "total = 0\n",
        "for cost in costs:\n",
        "    total += cost\n",
        "print('Total cost of MST:', total)\n",
        "\n",
        "# 執行結果\n",
        "# MST\n",
        "# costs: [0, 5, 1, 2, 3, 4]\n",
        "# parents [-1, 2, 0, 5, 1, 2]\n",
        "# Total cost of MST: 15"
      ],
      "execution_count": 1,
      "outputs": [
        {
          "output_type": "stream",
          "text": [
            "MST\n",
            "costs: [0, 5, 1, 2, 3, 4]\n",
            "parents [-1, 2, 0, 5, 1, 2]\n",
            "Total cost of MST: 15\n"
          ],
          "name": "stdout"
        }
      ]
    }
  ]
}