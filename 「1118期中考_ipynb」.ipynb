{
  "nbformat": 4,
  "nbformat_minor": 0,
  "metadata": {
    "colab": {
      "name": "「1118期中考.ipynb」",
      "provenance": [],
      "collapsed_sections": [],
      "include_colab_link": true
    },
    "kernelspec": {
      "name": "python3",
      "display_name": "Python 3"
    }
  },
  "cells": [
    {
      "cell_type": "markdown",
      "metadata": {
        "id": "view-in-github",
        "colab_type": "text"
      },
      "source": [
        "<a href=\"https://colab.research.google.com/github/wellyfu66/algorithm/blob/master/%E3%80%8C1118%E6%9C%9F%E4%B8%AD%E8%80%83_ipynb%E3%80%8D.ipynb\" target=\"_parent\"><img src=\"https://colab.research.google.com/assets/colab-badge.svg\" alt=\"Open In Colab\"/></a>"
      ]
    },
    {
      "cell_type": "markdown",
      "metadata": {
        "id": "W-Z0kMaDLJOp"
      },
      "source": [
        "Selection sort "
      ]
    },
    {
      "cell_type": "code",
      "metadata": {
        "id": "8tM3sv79HQ_V",
        "colab": {
          "base_uri": "https://localhost:8080/"
        },
        "outputId": "97eee7f4-03d7-41ed-ace5-e26d1adcedfe"
      },
      "source": [
        "def Selction_Sort(datas):\n",
        "    for i in range(len(datas)-1):           \n",
        "        min = i                             # 第一次選從第一個數開始,第二次從第二個數開始.               \n",
        "        for j in range(i+1, len(datas)):    # 用記錄的max數與其他的比較   \n",
        "            if datas[j] > datas[min]:        #從小到大改成從大到小              \n",
        "                min = j                                               \n",
        "\n",
        "        datas[i], datas[min] = datas[min], datas[i]\n",
        "\n",
        "        print(datas)\n",
        "        print('---'*8)\n",
        "    return datas\n",
        "\n",
        "\n",
        "if __name__ == '__main__':\n",
        "    import random\n",
        "    numbers = []                                            \n",
        "    for i in range(8):\n",
        "      numbers.append(random.randint(0,100))         #隨機從0~100生成8個數字                                 \n",
        "    print(numbers)\n",
        "    numbers = Selction_Sort(numbers)                                           \n",
        "    print(numbers)"
      ],
      "execution_count": null,
      "outputs": [
        {
          "output_type": "stream",
          "text": [
            "[4, 4, 18, 35, 54, 45, 21, 13]\n",
            "[54, 4, 18, 35, 4, 45, 21, 13]\n",
            "------------------------\n",
            "[54, 45, 18, 35, 4, 4, 21, 13]\n",
            "------------------------\n",
            "[54, 45, 35, 18, 4, 4, 21, 13]\n",
            "------------------------\n",
            "[54, 45, 35, 21, 4, 4, 18, 13]\n",
            "------------------------\n",
            "[54, 45, 35, 21, 18, 4, 4, 13]\n",
            "------------------------\n",
            "[54, 45, 35, 21, 18, 13, 4, 4]\n",
            "------------------------\n",
            "[54, 45, 35, 21, 18, 13, 4, 4]\n",
            "------------------------\n",
            "[54, 45, 35, 21, 18, 13, 4, 4]\n"
          ],
          "name": "stdout"
        }
      ]
    },
    {
      "cell_type": "markdown",
      "metadata": {
        "id": "MiWPt8bALDN5"
      },
      "source": [
        "插入排序法\n"
      ]
    },
    {
      "cell_type": "code",
      "metadata": {
        "colab": {
          "base_uri": "https://localhost:8080/"
        },
        "id": "fk7-O3Kr3g0r",
        "outputId": "8c327983-8ca4-449f-e5ec-814ce76e94b2"
      },
      "source": [
        "def Insertion_Sort(datas):\n",
        "    for i in range(1, len(datas)):  \n",
        "        for j in range(i):          \n",
        "            current = datas[i]\n",
        "            if current < datas[j]:  \n",
        "                for k in range(i,j): \n",
        "                  print(datas)\n",
        "    return datas\n",
        "\n",
        "\n",
        "def insertionSort(arr):\n",
        "    for i in range(len(arr)):                             \n",
        "        preIndex = i-1                                    \n",
        "        current = arr[i]\n",
        "        while preIndex >= 0 and arr[preIndex] > current:  \n",
        "            arr[preIndex+1] = arr[preIndex]               \n",
        "            preIndex-=1                                   \n",
        "        arr[preIndex+1] = current                         \n",
        "        print(arr)\n",
        "    return arr\n",
        "\n",
        "if __name__ == '__main__':                                    \n",
        "    import random\n",
        "    numbers = []                                            \n",
        "    for i in range(8):\n",
        "      numbers.append(random.randint(0,100))                                    \n",
        "    b = numbers.copy()                                          \n",
        "\n",
        "    arr = insertionSort(numbers)                                \n",
        "    print('---'*10)\n",
        "    Insertion_Sort(b)                                     "
      ],
      "execution_count": 1,
      "outputs": [
        {
          "output_type": "stream",
          "text": [
            "[76, 74, 49, 100, 4, 67, 16, 59]\n",
            "[74, 76, 49, 100, 4, 67, 16, 59]\n",
            "[49, 74, 76, 100, 4, 67, 16, 59]\n",
            "[49, 74, 76, 100, 4, 67, 16, 59]\n",
            "[4, 49, 74, 76, 100, 67, 16, 59]\n",
            "[4, 49, 67, 74, 76, 100, 16, 59]\n",
            "[4, 16, 49, 67, 74, 76, 100, 59]\n",
            "[4, 16, 49, 59, 67, 74, 76, 100]\n",
            "------------------------------\n"
          ],
          "name": "stdout"
        }
      ]
    }
  ]
}