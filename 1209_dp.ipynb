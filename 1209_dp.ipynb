{
  "nbformat": 4,
  "nbformat_minor": 0,
  "metadata": {
    "colab": {
      "name": "1209-dp",
      "provenance": [],
      "authorship_tag": "ABX9TyO7Ii0EH6LNkjn/gCG6v6v6",
      "include_colab_link": true
    },
    "kernelspec": {
      "name": "python3",
      "display_name": "Python 3"
    }
  },
  "cells": [
    {
      "cell_type": "markdown",
      "metadata": {
        "id": "view-in-github",
        "colab_type": "text"
      },
      "source": [
        "<a href=\"https://colab.research.google.com/github/wellyfu66/algorithm/blob/master/1209_dp.ipynb\" target=\"_parent\"><img src=\"https://colab.research.google.com/assets/colab-badge.svg\" alt=\"Open In Colab\"/></a>"
      ]
    },
    {
      "cell_type": "markdown",
      "metadata": {
        "id": "-OIt0r7iTbnu"
      },
      "source": [
        "d(s,a)=1\n",
        "\n",
        "d(s,b)=2\n",
        "\n",
        "d(s,c)=5\n",
        "\n",
        "d(s,d)=min{d(s,a)+d(a,d),(d(s,b)+d(d,b))}=5\n",
        "\n",
        "d(s,f)=min{(d(s,b)+d(b,f)),(d(s,c)+d(c,f))}=7\n",
        "\n",
        "d(s,t)=min{d(s,d)+d(d,t),d(s,b)+d(b,t),d(s,c)+d(c,t)}=6"
      ]
    },
    {
      "cell_type": "markdown",
      "metadata": {
        "id": "EcqEhlDLVhH9"
      },
      "source": [
        "n=7\n",
        "\n",
        "切兩段：1+6=18\n",
        "\n",
        "切三段：2+2+3=18"
      ]
    },
    {
      "cell_type": "code",
      "metadata": {
        "colab": {
          "base_uri": "https://localhost:8080/"
        },
        "id": "UllYUgDOWCpo",
        "outputId": "de1b53fc-067b-4dc9-e1d9-d67d25fac8ca"
      },
      "source": [
        "def CutRod(price, n):  \n",
        "    if n == 0:\n",
        "        return 0\n",
        "    queue = -1\n",
        "    for i in range(1, n+1):\n",
        "        queue = max(queue, price[i] + CutRod(price, n-i))\n",
        "    return queue\n",
        "n=(int(input()))\n",
        "price=[0,1,5,8,9,10,17,17,20,24,30]   \n",
        "print(\"最大收益為：\",CutRod(price,n))  \n"
      ],
      "execution_count": 20,
      "outputs": [
        {
          "output_type": "stream",
          "text": [
            "4\n",
            "最大收益為： 10\n"
          ],
          "name": "stdout"
        }
      ]
    }
  ]
}