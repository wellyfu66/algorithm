{
  "nbformat": 4,
  "nbformat_minor": 0,
  "metadata": {
    "colab": {
      "name": "1021hashingsearch.ipynb",
      "provenance": [],
      "authorship_tag": "ABX9TyMiD+rtdUl5w7UauG2FwCI5",
      "include_colab_link": true
    },
    "kernelspec": {
      "name": "python3",
      "display_name": "Python 3"
    }
  },
  "cells": [
    {
      "cell_type": "markdown",
      "metadata": {
        "id": "view-in-github",
        "colab_type": "text"
      },
      "source": [
        "<a href=\"https://colab.research.google.com/github/wellyfu66/algorithm/blob/master/1021hashingsearch.ipynb\" target=\"_parent\"><img src=\"https://colab.research.google.com/assets/colab-badge.svg\" alt=\"Open In Colab\"/></a>"
      ]
    },
    {
      "cell_type": "markdown",
      "metadata": {
        "id": "rro_BHiPCDES"
      },
      "source": [
        "線性雜湊"
      ]
    },
    {
      "cell_type": "code",
      "metadata": {
        "id": "OPzYspPlAv5g",
        "outputId": "102921f4-90a2-429d-8d68-3a524f91e2b1",
        "colab": {
          "base_uri": "https://localhost:8080/",
          "height": 236
        }
      },
      "source": [
        "import random\n",
        "\n",
        "\n",
        "INDEXBOX=10\n",
        "MAXNUM=7\n",
        "\n",
        "def print_data(data,max_number):\n",
        "  print('\\t',end='')\n",
        "  for i in range(max_number):\n",
        "    print('[%2d]' %data[i],end='')\n",
        "  print()\n",
        "\n",
        "def create_table(num,index):\n",
        "  tmp = num%INDEXBOX\n",
        "  while True:\n",
        "    if index[tmp] == -1:\n",
        "      index[tmp] = num\n",
        "      break\n",
        "    else:\n",
        "      tmp = (tmp+1)%INDEXBOX\n",
        "\n",
        "\n",
        "#main\n",
        "\n",
        "index=[None]*INDEXBOX\n",
        "data=[None]*MAXNUM\n",
        "\n",
        "print('原始陣列值：')\n",
        "for i in range(MAXNUM):\n",
        "  data[i]=random.randint(1,20)\n",
        "for i in range(INDEXBOX):\n",
        "  index[i]=-1\n",
        "print_data(data,MAXNUM)\n",
        "\n",
        "print('雜湊表內容：')\n",
        "for i in range(MAXNUM):\n",
        "  create_table(data[i],index)\n",
        "  print(' %2d =>' %data[i],end = '')\n",
        "  print_data(index,INDEXBOX)\n",
        "\n",
        "\n",
        "print('完成雜湊表：')\n",
        "print_data(index,INDEXBOX)"
      ],
      "execution_count": 3,
      "outputs": [
        {
          "output_type": "stream",
          "text": [
            "原始陣列值：\n",
            "\t[11][19][ 6][14][ 7][18][16]\n",
            "雜湊表內容：\n",
            " 11 =>\t[-1][11][-1][-1][-1][-1][-1][-1][-1][-1]\n",
            " 19 =>\t[-1][11][-1][-1][-1][-1][-1][-1][-1][19]\n",
            "  6 =>\t[-1][11][-1][-1][-1][-1][ 6][-1][-1][19]\n",
            " 14 =>\t[-1][11][-1][-1][14][-1][ 6][-1][-1][19]\n",
            "  7 =>\t[-1][11][-1][-1][14][-1][ 6][ 7][-1][19]\n",
            " 18 =>\t[-1][11][-1][-1][14][-1][ 6][ 7][18][19]\n",
            " 16 =>\t[16][11][-1][-1][14][-1][ 6][ 7][18][19]\n",
            "完成雜湊表：\n",
            "\t[16][11][-1][-1][14][-1][ 6][ 7][18][19]\n"
          ],
          "name": "stdout"
        }
      ]
    },
    {
      "cell_type": "markdown",
      "metadata": {
        "id": "zSGv_jzLE4sc"
      },
      "source": [
        "平方法"
      ]
    },
    {
      "cell_type": "code",
      "metadata": {
        "id": "_EsWmvgPE9Cg"
      },
      "source": [
        "import random\n",
        "\n",
        "\n",
        "INDEXBOX=10\n",
        "MAXNUM=7\n",
        "n=1                                   #紀錄第幾次雜湊\n",
        "\n",
        "def print_data(data,max_number):\n",
        "  print('\\t',end='')\n",
        "  for i in range( max_number):\n",
        "    print('[2%d]' %data[i],end='')\n",
        "  print()\n",
        "def create_table(num,index,n):\n",
        "  tmp = num%INDEXBOX\n",
        "  while True:\n",
        "    if index[tmp] == -1:\n",
        "      index[tmp] = num\n",
        "      n=1\n",
        "      break\n",
        "    else:\n",
        "      if index[tmp] == num:\n",
        "        tmp = (tmp+n^2)%INDEXBOX    #把次數的平方加上去進行雜湊  \n",
        "        n+1                         #次數加1\n",
        "        \n",
        "\n",
        "\n",
        "#main\n",
        "\n",
        "index=[None]*INDEXBOX\n",
        "data=[None]*MAXNUM\n",
        "\n",
        "print('原始陣列值：')\n",
        "for i in range(MAXNUM):\n",
        "  data[i]=random.randint(1,20)\n",
        "for i in range(INDEXBOX):\n",
        "  index[i]=-1\n",
        "print_data(data,MAXNUM)\n",
        "\n",
        "print('雜湊表內容：')\n",
        "for i in range(MAXNUM):\n",
        "  create_table(data[i],index,n)\n",
        "  print(' %2d =>' %data[i],end = '')\n",
        "  print_data(index,INDEXBOX)\n",
        "\n",
        "\n",
        "print('完成雜湊表：')\n",
        "print_data(index,INDEXBOX)"
      ],
      "execution_count": null,
      "outputs": []
    },
    {
      "cell_type": "markdown",
      "metadata": {
        "id": "MqlIBDVxE_yW"
      },
      "source": [
        "再雜湊\n"
      ]
    },
    {
      "cell_type": "code",
      "metadata": {
        "id": "JNNo8vqkFCkO",
        "outputId": "98cad85e-0aae-4b5a-a47c-b4f07a20ad4e",
        "colab": {
          "base_uri": "https://localhost:8080/",
          "height": 120
        }
      },
      "source": [
        "import random\n",
        "\n",
        "\n",
        "INDEXBOX=10\n",
        "MAXNUM=7\n",
        "n=0                                    #紀錄第幾次雜湊\n",
        "\n",
        "def print_data(data,max_number):\n",
        "  print('\\t',end='')\n",
        "  for i in range( max_number):\n",
        "    print('[%2d]' %data[i],end='')\n",
        "  print()\n",
        "def create_table(num,index,n):\n",
        "  tmp = num%INDEXBOX\n",
        "  while True:\n",
        "    if index[tmp] == -1:\n",
        "      index[tmp] = num\n",
        "      n=0\n",
        "      break\n",
        "    else:                             \n",
        "      if index[tmp] == num:             \n",
        "        tmp = (tmp+2*n)%INDEXBOX        #把2的倍數加上去進行雜湊  \n",
        "        n+1                             #計次＋1\n",
        "\n",
        "\n",
        "#main\n",
        "\n",
        "index=[None]*INDEXBOX\n",
        "data=[None]*MAXNUM\n",
        "\n",
        "print('原始陣列值：')\n",
        "for i in range(MAXNUM):\n",
        "  data[i]=random.randint(1,20)\n",
        "for i in range(INDEXBOX):\n",
        "  index[i]=-1\n",
        "print_data(data,MAXNUM)\n",
        "\n",
        "print('雜湊表內容：')\n",
        "for i in range(MAXNUM):\n",
        "  create_table(data[i],index,n)\n",
        "  print(' %2d =>' %data[i],end = '')\n",
        "  print_data(index,INDEXBOX)\n",
        "\n",
        "\n",
        "print('完成雜湊表：')\n",
        "print_data(index,INDEXBOX)"
      ],
      "execution_count": null,
      "outputs": [
        {
          "output_type": "stream",
          "text": [
            "原始陣列值：\n",
            "\t[17][ 1][17][14][19][ 1][12]\n",
            "雜湊表內容：\n",
            " 17 =>\t[-1][-1][-1][-1][-1][-1][-1][17][-1][-1]\n",
            "  1 =>\t[-1][ 1][-1][-1][-1][-1][-1][17][-1][-1]\n"
          ],
          "name": "stdout"
        }
      ]
    }
  ]
}