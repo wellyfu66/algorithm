{
  "nbformat": 4,
  "nbformat_minor": 0,
  "metadata": {
    "colab": {
      "name": "「0930bubblesort.ipynb」",
      "provenance": [],
      "include_colab_link": true
    },
    "kernelspec": {
      "name": "python3",
      "display_name": "Python 3"
    }
  },
  "cells": [
    {
      "cell_type": "markdown",
      "metadata": {
        "id": "view-in-github",
        "colab_type": "text"
      },
      "source": [
        "<a href=\"https://colab.research.google.com/github/wellyfu66/algorithm/blob/master/%E3%80%8C0930bubblesort_ipynb%E3%80%8D.ipynb\" target=\"_parent\"><img src=\"https://colab.research.google.com/assets/colab-badge.svg\" alt=\"Open In Colab\"/></a>"
      ]
    },
    {
      "cell_type": "markdown",
      "metadata": {
        "id": "32sgU0StMiof"
      },
      "source": [
        "Bubble sort (氣泡排序)"
      ]
    },
    {
      "cell_type": "code",
      "metadata": {
        "id": "esB_4fSeMLYJ",
        "outputId": "3e23e09d-6e93-4105-f45e-47f5bd82c525",
        "colab": {
          "base_uri": "https://localhost:8080/"
        }
      },
      "source": [
        "def Bubble_Sort(datas):\n",
        "    for i in range(1, len(datas)): # \n",
        "        for j in range(len(datas)-i):   # \n",
        "            if datas[j] > datas[j+1]:   # \n",
        "                datas[j], datas[j+1] = datas[j+1], datas[j]\n",
        "    return datas\n",
        "\n",
        "a = input(\"第1個數字\")      #輸入第1個數字\n",
        "b = input(\"第2個數字\")      #輸入第2個數字\n",
        "c = input(\"第3個數字\")      #輸入第3個數字\n",
        "d = input(\"第4個數字\")      #輸入第4個數字 \n",
        "e = input(\"第5個數字\")      #輸入第5個數字\n",
        "f = input(\"第6個數字\")      #輸入第6個數字\n",
        "n = [a,b,c,d,e,f]           #丟到字串\n",
        "if __name__ == '__main__':\n",
        "    import random\n",
        "    random.shuffle(n)\n",
        "    print(n)\n",
        "    n = Bubble_Sort(n)\n",
        "    print(n)"
      ],
      "execution_count": 18,
      "outputs": [
        {
          "output_type": "stream",
          "text": [
            "第1個數字1\n",
            "第2個數字3\n",
            "第3個數字4\n",
            "第4個數字6\n",
            "第5個數字8\n",
            "第6個數字9\n",
            "['1', '8', '9', '4', '6', '3']\n",
            "['1', '3', '4', '6', '8', '9']\n"
          ],
          "name": "stdout"
        }
      ]
    },
    {
      "cell_type": "markdown",
      "metadata": {
        "id": "MOQ_aZKnM-wL"
      },
      "source": [
        "請加入註解，並將程式修改為加入六個數做氣泡排序\n"
      ]
    }
  ]
}