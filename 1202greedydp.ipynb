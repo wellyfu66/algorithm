{
  "nbformat": 4,
  "nbformat_minor": 0,
  "metadata": {
    "colab": {
      "name": "1202greedy.ipynb",
      "provenance": [],
      "authorship_tag": "ABX9TyMfssnZdW3gX0hw8Tws/wjY",
      "include_colab_link": true
    },
    "kernelspec": {
      "name": "python3",
      "display_name": "Python 3"
    }
  },
  "cells": [
    {
      "cell_type": "markdown",
      "metadata": {
        "id": "view-in-github",
        "colab_type": "text"
      },
      "source": [
        "<a href=\"https://colab.research.google.com/github/wellyfu66/algorithm/blob/master/1202greedydp.ipynb\" target=\"_parent\"><img src=\"https://colab.research.google.com/assets/colab-badge.svg\" alt=\"Open In Colab\"/></a>"
      ]
    },
    {
      "cell_type": "markdown",
      "metadata": {
        "id": "ewVeuMtZOiD6"
      },
      "source": [
        "greedy"
      ]
    },
    {
      "cell_type": "code",
      "metadata": {
        "colab": {
          "base_uri": "https://localhost:8080/"
        },
        "id": "9pNi-xMDIxLk",
        "outputId": "3281c2cd-32dc-499c-8a78-d9f6563676d9"
      },
      "source": [
        "# t=面積\n",
        "t = [25,20,5,1]\n",
        "n = int(input())\n",
        "#n = 多少錢\n",
        "def change(t,n):\n",
        "  m = [0 for _ in range(len(t))]\n",
        "  for i,money in enumerate(t):\n",
        "    m[i] = n // money\n",
        "    n = n%money\n",
        "    print(m,n)\n",
        "      \n",
        "change(t,n)\n"
      ],
      "execution_count": 22,
      "outputs": [
        {
          "output_type": "stream",
          "text": [
            "41\n",
            "[1, 0, 0, 0] 16\n",
            "[1, 0, 0, 0] 16\n",
            "[1, 0, 3, 0] 1\n",
            "[1, 0, 3, 1] 0\n"
          ],
          "name": "stdout"
        }
      ]
    },
    {
      "cell_type": "markdown",
      "metadata": {
        "id": "aEFFRamHOkzU"
      },
      "source": [
        "dp"
      ]
    },
    {
      "cell_type": "code",
      "metadata": {
        "colab": {
          "base_uri": "https://localhost:8080/"
        },
        "id": "z2h8CwkzOgtZ",
        "outputId": "4dd28792-8227-4ebe-b992-c9e4305ec824"
      },
      "source": [
        "def coin_change(coins,change,dp,coins_used):\n",
        "\t'''利用動態規劃求解找零需要的錢幣張數，以及錢幣的使用情況'''\n",
        "\tfor i in range(1,change+1):\n",
        "\t\t#依次求解，dp[1]~dp[change]\n",
        "\t\tfor j in range(len(coins)):\n",
        "\t\t\tif coins[j]<=i:\n",
        "\t\t\t\t#使用這張錢幣的前提，紙幣的金額數<=需要找零的金額，比如：找零8塊，不能使用10塊的錢幣\n",
        "\t\t\t\tif dp[i-coins[j]]+1<dp[i]:\n",
        "\t\t\t\t\t#dp[i]=min(dp[i],dp[i-coins[j]]+1)\n",
        "\t\t\t\t\tdp[i]=dp[i-coins[j]]+1\n",
        "\t\t\t\t\t#記錄使用的錢幣\n",
        "\t\t\t\t\tnew_coin=coins[j]\n",
        "\t\tcoins_used[i]=new_coin\n",
        "\n",
        "\tif dp[change]>change:\n",
        "\t\t#無解的情況，初始化的時候設置dp[change]=change+1\n",
        "\t\treturn -1\n",
        "\telse:\n",
        "\t\treturn dp[change]\n",
        "def used_coins(change,used_coins):\n",
        "\t'''利用used_coins求解使用的錢幣'''\n",
        "\tre=[]\n",
        "\twhile change:\n",
        "\t\t#dp[i]=dp[i-coins[j]]+1    used_coins[change]=coins[j]\n",
        "\t\ttmp=used_coins[change]\n",
        "\t\tre.append(tmp)\n",
        "\t\tchange-=tmp\n",
        "\treturn re\n",
        "\n",
        "if __name__=='__main__':\n",
        "\t#初始化\n",
        "\tcoins=[1,5,20,25]\n",
        "\tchange=int(input())\n",
        "\tdp=[change+1]*(change+1)\n",
        "\tdp[0]=0\n",
        "\tcoins_used=[0]*(change+1)\n",
        "\n",
        "\tre=coin_change(coins,change,dp,coins_used)\n",
        "\tre_coins=used_coins(change,coins_used)\n",
        "\tprint(\"找零{0}元需要{1}張錢幣,分別是{2}\".format(change,re,re_coins))\n"
      ],
      "execution_count": 24,
      "outputs": [
        {
          "output_type": "stream",
          "text": [
            "41\n",
            "找零41元需要3張錢幣,分別是[1, 20, 20]\n"
          ],
          "name": "stdout"
        }
      ]
    },
    {
      "cell_type": "markdown",
      "metadata": {
        "id": "Ny4I2hBKT66C"
      },
      "source": [
        "背包greedy\n"
      ]
    },
    {
      "cell_type": "code",
      "metadata": {
        "colab": {
          "base_uri": "https://localhost:8080/"
        },
        "id": "SavO7CBtT285",
        "outputId": "c0fcca2b-9afa-4374-b754-7a4f75a83ed0"
      },
      "source": [
        "# t=面積\n",
        "t = [5,4,3,2,1]\n",
        "v = [17000,60000,9000,20000,35000]\n",
        "\n",
        "n = 10\n",
        "#n = 多少錢\n",
        "\n",
        "#排列價值大小\n",
        "def Selction_Sort(datas,data2):\n",
        "    for i in range(len(datas)-1):           \n",
        "        min = i                                          \n",
        "        for j in range(i+1, len(datas)):       \n",
        "            if datas[j] > datas[min]:                \n",
        "                min = j                                               \n",
        "\n",
        "        datas[i], datas[min] = datas[min], datas[i]\n",
        "        data2[i], data2[min] = data2[min], data2[i]\n",
        "\n",
        "        print(datas,data2)\n",
        "    return datas\n",
        "\n",
        "def change(t,n):\n",
        "  m = [0 for _ in range(len(t))]\n",
        "  for i,heavy in enumerate(t):\n",
        "    m[i] = 1\n",
        "    if n - heavy < 0:         #跳過過重的物品\n",
        "      n = n\n",
        "      m[i] = 0\n",
        "    else: \n",
        "      n = n - heavy           #拿取一次的東西\n",
        "    print(m,n)\n",
        "    \n",
        "    \n",
        "    \n",
        "Selction_Sort(v,t)\n",
        "change(t,n)\n",
        "  "
      ],
      "execution_count": 52,
      "outputs": [
        {
          "output_type": "stream",
          "text": [
            "[60000, 17000, 9000, 20000, 35000] [4, 5, 3, 2, 1]\n",
            "[60000, 35000, 9000, 20000, 17000] [4, 1, 3, 2, 5]\n",
            "[60000, 35000, 20000, 9000, 17000] [4, 1, 2, 3, 5]\n",
            "[60000, 35000, 20000, 17000, 9000] [4, 1, 2, 5, 3]\n",
            "[1, 0, 0, 0, 0] 6\n",
            "[1, 1, 0, 0, 0] 5\n",
            "[1, 1, 1, 0, 0] 3\n",
            "[1, 1, 1, 0, 0] 3\n",
            "[1, 1, 1, 0, 1] 0\n"
          ],
          "name": "stdout"
        }
      ]
    },
    {
      "cell_type": "markdown",
      "metadata": {
        "id": "xs5GF66scr72"
      },
      "source": [
        "背包 dp"
      ]
    },
    {
      "cell_type": "code",
      "metadata": {
        "colab": {
          "base_uri": "https://localhost:8080/"
        },
        "id": "j5jMTY5RcrxG",
        "outputId": "a783c242-033f-4e52-ddce-4c2eff73038e"
      },
      "source": [
        "import numpy as np\n",
        "def pack():\n",
        "    C=10\n",
        "    num=5\n",
        "    v = [5,1,4,3,2]    #物品重量\n",
        "    price=[17000,35000,60000,9000,20000] # 物品價值\n",
        "    sum=np.zeros((num+1,C+1)) \n",
        "    for jew in range(num+1): # 物品個數\n",
        "        for c in range(C+1): # 容量大小\n",
        "            if(jew==0):    # 如果没有装入背包\n",
        "                sum[jew][c]=0\n",
        "            else:\n",
        "                sum[jew][c]=sum[jew-1][c]\n",
        "            if(jew>0 and c>=v[jew-1]): \n",
        "                sum[jew][c]=max(sum[jew-1][c],sum[jew-1][c-v[jew-1]]+price[jew-1])\n",
        "    print(\"the max price:\",sum[num][C])\n",
        " \n",
        "    # 記錄最終放入背包的物品，\n",
        "    pack=np.zeros((num))\n",
        "    volume = C\n",
        "    \n",
        "    for jew in range(num,-1,-1):  # 迴圈\n",
        "        if(sum[jew][volume]>sum[jew-1][volume]):  # 如果加入最后一個價值比前一個高\n",
        "            pack[jew-1]=1\n",
        "            volume=volume-v[jew-1]\n",
        " \n",
        "    print(\"背包情况\",pack)\n",
        " \n",
        "if __name__==\"__main__\":\n",
        "    pack()"
      ],
      "execution_count": 54,
      "outputs": [
        {
          "output_type": "stream",
          "text": [
            "the max price: 124000.0\n",
            "背包情况 [0. 1. 1. 1. 1.]\n"
          ],
          "name": "stdout"
        }
      ]
    }
  ]
}