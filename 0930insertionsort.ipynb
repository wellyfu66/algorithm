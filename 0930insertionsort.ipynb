{
  "nbformat": 4,
  "nbformat_minor": 0,
  "metadata": {
    "colab": {
      "name": "0930insertionsort.ipynb",
      "provenance": [],
      "collapsed_sections": [],
      "include_colab_link": true
    },
    "kernelspec": {
      "name": "python3",
      "display_name": "Python 3"
    }
  },
  "cells": [
    {
      "cell_type": "markdown",
      "metadata": {
        "id": "view-in-github",
        "colab_type": "text"
      },
      "source": [
        "<a href=\"https://colab.research.google.com/github/wellyfu66/algorithm/blob/master/0930insertionsort.ipynb\" target=\"_parent\"><img src=\"https://colab.research.google.com/assets/colab-badge.svg\" alt=\"Open In Colab\"/></a>"
      ]
    },
    {
      "cell_type": "markdown",
      "metadata": {
        "id": "j95w6SLwOC0z"
      },
      "source": [
        "Insertion sort (插入排序)"
      ]
    },
    {
      "cell_type": "code",
      "metadata": {
        "id": "BxBaYEwzNj_v",
        "outputId": "95b6b4ac-b95b-405b-e3e7-5c3f047223af",
        "colab": {
          "base_uri": "https://localhost:8080/",
          "height": 204
        }
      },
      "source": [
        "\n",
        "def Insertion_Sort(datas):\n",
        "    for i in range(1, len(datas)):  # n\n",
        "        for j in range(i):          # n\n",
        "            current = datas[i]\n",
        "            if current < datas[j]:  # n\n",
        "                for k in range(i,j):# n \n",
        "                  print(datas)\n",
        "    return datas\n",
        "\n",
        "\n",
        "def insertionSort(arr):\n",
        "    for i in range(len(arr)):                             # n\n",
        "        preIndex = i-1                                    # n+1\n",
        "        current = arr[i]\n",
        "        while preIndex >= 0 and arr[preIndex] > current:  # n+1\n",
        "            arr[preIndex+1] = arr[preIndex]               # n\n",
        "            preIndex-=1                                   # n+1\n",
        "        arr[preIndex+1] = current                         # n\n",
        "        print(arr)\n",
        "    return arr\n",
        "\n",
        "if __name__ == '__main__':                                    \n",
        "    import random\n",
        "    a = list(range(10))                                   # 10\n",
        "    random.shuffle(a)                                     # 10\n",
        "    b = a.copy()                                          # 10\n",
        "\n",
        "    arr = insertionSort(a)                                # (10n+3)*10\n",
        "    print('---'*10)\n",
        "    Insertion_Sort(b)                                     # 10n+3     -> 20n+63"
      ],
      "execution_count": null,
      "outputs": [
        {
          "output_type": "stream",
          "text": [
            "[5, 6, 0, 3, 4, 8, 7, 2, 1, 9]\n",
            "[5, 6, 0, 3, 4, 8, 7, 2, 1, 9]\n",
            "[0, 5, 6, 3, 4, 8, 7, 2, 1, 9]\n",
            "[0, 3, 5, 6, 4, 8, 7, 2, 1, 9]\n",
            "[0, 3, 4, 5, 6, 8, 7, 2, 1, 9]\n",
            "[0, 3, 4, 5, 6, 8, 7, 2, 1, 9]\n",
            "[0, 3, 4, 5, 6, 7, 8, 2, 1, 9]\n",
            "[0, 2, 3, 4, 5, 6, 7, 8, 1, 9]\n",
            "[0, 1, 2, 3, 4, 5, 6, 7, 8, 9]\n",
            "[0, 1, 2, 3, 4, 5, 6, 7, 8, 9]\n",
            "------------------------------\n"
          ],
          "name": "stdout"
        }
      ]
    }
  ]
}